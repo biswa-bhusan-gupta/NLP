{
 "cells": [
  {
   "cell_type": "code",
   "execution_count": 1,
   "metadata": {},
   "outputs": [],
   "source": [
    "import spacy"
   ]
  },
  {
   "cell_type": "code",
   "execution_count": 2,
   "metadata": {},
   "outputs": [],
   "source": [
    "NLP=spacy.load('en_core_web_sm')"
   ]
  },
  {
   "cell_type": "code",
   "execution_count": 3,
   "metadata": {},
   "outputs": [],
   "source": [
    "from spacy import displacy"
   ]
  },
  {
   "cell_type": "code",
   "execution_count": 4,
   "metadata": {},
   "outputs": [],
   "source": [
    "def Show_Entity(Doc):\n",
    "    if Doc.ents:\n",
    "        for Entity in Doc.ents:\n",
    "            print(Entity.text+'<---->'+Entity.label_+'<---->'+str(spacy.explain(Entity.label_)))\n",
    "    else:\n",
    "        print('Entity Not Found')"
   ]
  },
  {
   "cell_type": "code",
   "execution_count": 5,
   "metadata": {},
   "outputs": [
    {
     "name": "stdout",
     "output_type": "stream",
     "text": [
      "Entity Not Found\n"
     ]
    }
   ],
   "source": [
    "Doc1=NLP(u'Hii How are you?')\n",
    "Show_Entity(Doc1)"
   ]
  },
  {
   "cell_type": "code",
   "execution_count": 6,
   "metadata": {},
   "outputs": [
    {
     "name": "stdout",
     "output_type": "stream",
     "text": [
      "Washington<---->GPE<---->Countries, cities, states\n",
      "next May<---->DATE<---->Absolute or relative dates or periods\n",
      "the Washington Monument<---->ORG<---->Companies, agencies, institutions, etc.\n"
     ]
    }
   ],
   "source": [
    "Doc2=NLP('May i go to Washington,DC next May to see the Washington Monument!')\n",
    "Show_Entity(Doc2)"
   ]
  },
  {
   "cell_type": "code",
   "execution_count": 7,
   "metadata": {},
   "outputs": [
    {
     "name": "stdout",
     "output_type": "stream",
     "text": [
      "500 dollars<---->MONEY<---->Monetary values, including unit\n",
      "Microsoft Stock<---->ORG<---->Companies, agencies, institutions, etc.\n"
     ]
    }
   ],
   "source": [
    "Doc3=NLP('Can I have 500 dollars of Microsoft Stock?')\n",
    "Show_Entity(Doc3)"
   ]
  },
  {
   "cell_type": "code",
   "execution_count": 8,
   "metadata": {},
   "outputs": [
    {
     "name": "stdout",
     "output_type": "stream",
     "text": [
      "500 dollars 4 6 20 31 MONEY\n",
      "Microsoft 11 12 53 62 ORG\n"
     ]
    }
   ],
   "source": [
    "Doc4=NLP(u'Can I please borrow 500 dollars from you to buy some Microsoft stock?')\n",
    "for Entity in Doc4.ents:\n",
    "         print(Entity.text,Entity.start,Entity.end,Entity.start_char,Entity.end_char,Entity.label_)"
   ]
  },
  {
   "cell_type": "code",
   "execution_count": 9,
   "metadata": {},
   "outputs": [
    {
     "name": "stdout",
     "output_type": "stream",
     "text": [
      "U.K Factory<---->ORG<---->Companies, agencies, institutions, etc.\n",
      "$6 Million<---->MONEY<---->Monetary values, including unit\n"
     ]
    }
   ],
   "source": [
    "Doc5=NLP(u'Google to build a U.K Factory for $6 Million')\n",
    "Show_Entity(Doc5)"
   ]
  },
  {
   "cell_type": "code",
   "execution_count": 10,
   "metadata": {},
   "outputs": [],
   "source": [
    "from spacy.tokens import Span"
   ]
  },
  {
   "cell_type": "code",
   "execution_count": 11,
   "metadata": {},
   "outputs": [],
   "source": [
    "# ORG:ORGANIZATION ENTITY LABEL\n",
    "# GET THE HASH VALUE OF ORG ENTITY LABEL\n",
    "Org=Doc5.vocab.strings[u'ORG']"
   ]
  },
  {
   "cell_type": "code",
   "execution_count": 12,
   "metadata": {},
   "outputs": [
    {
     "data": {
      "text/plain": [
       "383"
      ]
     },
     "execution_count": 12,
     "metadata": {},
     "output_type": "execute_result"
    }
   ],
   "source": [
    "Org"
   ]
  },
  {
   "cell_type": "code",
   "execution_count": 13,
   "metadata": {},
   "outputs": [],
   "source": [
    "# CREATE A SPAN FOR THE NEW ENTITY\n",
    "New_Entity=Span(Doc5,0,1,Org)"
   ]
  },
  {
   "cell_type": "code",
   "execution_count": 14,
   "metadata": {},
   "outputs": [
    {
     "data": {
      "text/plain": [
       "(U.K Factory, $6 Million)"
      ]
     },
     "execution_count": 14,
     "metadata": {},
     "output_type": "execute_result"
    }
   ],
   "source": [
    "Doc5.ents"
   ]
  },
  {
   "cell_type": "code",
   "execution_count": 15,
   "metadata": {},
   "outputs": [],
   "source": [
    "# ADD THE ENTITY FOR THE EXISTING DOC OBJECT\n",
    "Doc5.ents=list(Doc5.ents)+[New_Entity]"
   ]
  },
  {
   "cell_type": "code",
   "execution_count": 16,
   "metadata": {},
   "outputs": [
    {
     "name": "stdout",
     "output_type": "stream",
     "text": [
      "Google<---->ORG<---->Companies, agencies, institutions, etc.\n",
      "U.K Factory<---->ORG<---->Companies, agencies, institutions, etc.\n",
      "$6 Million<---->MONEY<---->Monetary values, including unit\n"
     ]
    }
   ],
   "source": [
    "Show_Entity(Doc5)"
   ]
  },
  {
   "cell_type": "code",
   "execution_count": 17,
   "metadata": {},
   "outputs": [],
   "source": [
    "# ADDING NAMED ENTITIES TO ALL MATCHING SPANS\n",
    "Doc6=NLP(u'Our company plans to introduce a new vacuum cleaner.'\n",
    "         u'If successful, the vacuum-cleaner will be our first product.')"
   ]
  },
  {
   "cell_type": "code",
   "execution_count": 18,
   "metadata": {},
   "outputs": [
    {
     "name": "stdout",
     "output_type": "stream",
     "text": [
      "Entity Not Found\n"
     ]
    }
   ],
   "source": [
    "Show_Entity(Doc6)"
   ]
  },
  {
   "cell_type": "code",
   "execution_count": 19,
   "metadata": {},
   "outputs": [],
   "source": [
    "# IMPORT PHRASE MATCHER AND CREATE A MATCHER OBJECT\n",
    "from spacy.matcher import PhraseMatcher\n",
    "Matcher=PhraseMatcher(NLP.vocab)"
   ]
  },
  {
   "cell_type": "code",
   "execution_count": 20,
   "metadata": {},
   "outputs": [
    {
     "data": {
      "text/plain": [
       "<spacy.matcher.phrasematcher.PhraseMatcher at 0x1b100324198>"
      ]
     },
     "execution_count": 20,
     "metadata": {},
     "output_type": "execute_result"
    }
   ],
   "source": [
    "Matcher"
   ]
  },
  {
   "cell_type": "code",
   "execution_count": 21,
   "metadata": {},
   "outputs": [],
   "source": [
    "Phrase_List=['vacuum cleaner','vacuum-cleaner']"
   ]
  },
  {
   "cell_type": "code",
   "execution_count": 22,
   "metadata": {},
   "outputs": [],
   "source": [
    "Phrase_Pattern=[NLP(Text) for Text in Phrase_List]"
   ]
  },
  {
   "cell_type": "code",
   "execution_count": 23,
   "metadata": {},
   "outputs": [
    {
     "data": {
      "text/plain": [
       "'vacuum cleaner'"
      ]
     },
     "execution_count": 23,
     "metadata": {},
     "output_type": "execute_result"
    }
   ],
   "source": [
    "Phrase_List[0]"
   ]
  },
  {
   "cell_type": "code",
   "execution_count": 24,
   "metadata": {},
   "outputs": [
    {
     "data": {
      "text/plain": [
       "vacuum cleaner"
      ]
     },
     "execution_count": 24,
     "metadata": {},
     "output_type": "execute_result"
    }
   ],
   "source": [
    "Phrase_Pattern[0]"
   ]
  },
  {
   "cell_type": "code",
   "execution_count": 25,
   "metadata": {},
   "outputs": [
    {
     "data": {
      "text/plain": [
       "list"
      ]
     },
     "execution_count": 25,
     "metadata": {},
     "output_type": "execute_result"
    }
   ],
   "source": [
    "type(Phrase_List)"
   ]
  },
  {
   "cell_type": "code",
   "execution_count": 26,
   "metadata": {},
   "outputs": [
    {
     "data": {
      "text/plain": [
       "spacy.tokens.doc.Doc"
      ]
     },
     "execution_count": 26,
     "metadata": {},
     "output_type": "execute_result"
    }
   ],
   "source": [
    "type(Phrase_Pattern[0])"
   ]
  },
  {
   "cell_type": "code",
   "execution_count": 27,
   "metadata": {},
   "outputs": [],
   "source": [
    "Matcher.add('Vacuum_Matcher',None,*Phrase_Pattern)"
   ]
  },
  {
   "cell_type": "code",
   "execution_count": 28,
   "metadata": {},
   "outputs": [
    {
     "data": {
      "text/plain": [
       "[(18412113703094113920, 7, 9), (18412113703094113920, 14, 17)]"
      ]
     },
     "execution_count": 28,
     "metadata": {},
     "output_type": "execute_result"
    }
   ],
   "source": [
    "Found_Matches=Matcher(Doc6)\n",
    "Found_Matches"
   ]
  },
  {
   "cell_type": "code",
   "execution_count": 29,
   "metadata": {},
   "outputs": [],
   "source": [
    "Prod=Doc6.vocab.strings[u'PRODUCT']"
   ]
  },
  {
   "cell_type": "code",
   "execution_count": 30,
   "metadata": {},
   "outputs": [
    {
     "data": {
      "text/plain": [
       "386"
      ]
     },
     "execution_count": 30,
     "metadata": {},
     "output_type": "execute_result"
    }
   ],
   "source": [
    "Prod"
   ]
  },
  {
   "cell_type": "code",
   "execution_count": 31,
   "metadata": {},
   "outputs": [],
   "source": [
    "from spacy.tokens import Span\n",
    "New_Entity=[Span(Doc6,Match[1],Match[2],label=Prod) for Match in Found_Matches]"
   ]
  },
  {
   "cell_type": "code",
   "execution_count": 32,
   "metadata": {},
   "outputs": [
    {
     "data": {
      "text/plain": [
       "()"
      ]
     },
     "execution_count": 32,
     "metadata": {},
     "output_type": "execute_result"
    }
   ],
   "source": [
    "Doc6.ents"
   ]
  },
  {
   "cell_type": "code",
   "execution_count": 33,
   "metadata": {},
   "outputs": [
    {
     "name": "stdout",
     "output_type": "stream",
     "text": [
      "vacuum cleaner<---->PRODUCT<---->Objects, vehicles, foods, etc. (not services)\n",
      "vacuum-cleaner<---->PRODUCT<---->Objects, vehicles, foods, etc. (not services)\n"
     ]
    }
   ],
   "source": [
    "Doc6.ents=list(Doc6.ents)+ New_Entity\n",
    "Show_Entity(Doc6)"
   ]
  },
  {
   "cell_type": "code",
   "execution_count": 34,
   "metadata": {},
   "outputs": [
    {
     "name": "stdout",
     "output_type": "stream",
     "text": [
      "29.50<---->MONEY<---->Monetary values, including unit\n",
      "five dollars<---->MONEY<---->Monetary values, including unit\n"
     ]
    }
   ],
   "source": [
    "Doc7=NLP('Originally priced at $29.50,\\nthe sweater was marked down to five dollars.')\n",
    "Show_Entity(Doc7)"
   ]
  },
  {
   "cell_type": "code",
   "execution_count": 37,
   "metadata": {},
   "outputs": [
    {
     "data": {
      "text/plain": [
       "[29.50, five dollars]"
      ]
     },
     "execution_count": 37,
     "metadata": {},
     "output_type": "execute_result"
    }
   ],
   "source": [
    "[Entity for Entity in Doc7.ents if Entity.label_==\"MONEY\"]"
   ]
  },
  {
   "cell_type": "code",
   "execution_count": 38,
   "metadata": {},
   "outputs": [
    {
     "data": {
      "text/plain": [
       "2"
      ]
     },
     "execution_count": 38,
     "metadata": {},
     "output_type": "execute_result"
    }
   ],
   "source": [
    "len([Entity for Entity in Doc7.ents if Entity.label_==\"MONEY\"])"
   ]
  },
  {
   "cell_type": "code",
   "execution_count": null,
   "metadata": {},
   "outputs": [],
   "source": []
  }
 ],
 "metadata": {
  "kernelspec": {
   "display_name": "Python 3",
   "language": "python",
   "name": "python3"
  },
  "language_info": {
   "codemirror_mode": {
    "name": "ipython",
    "version": 3
   },
   "file_extension": ".py",
   "mimetype": "text/x-python",
   "name": "python",
   "nbconvert_exporter": "python",
   "pygments_lexer": "ipython3",
   "version": "3.7.6"
  }
 },
 "nbformat": 4,
 "nbformat_minor": 4
}

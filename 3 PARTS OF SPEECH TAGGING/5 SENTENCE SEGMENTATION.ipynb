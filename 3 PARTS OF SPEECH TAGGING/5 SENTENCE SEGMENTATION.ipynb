{
 "cells": [
  {
   "cell_type": "code",
   "execution_count": 1,
   "metadata": {},
   "outputs": [],
   "source": [
    "import spacy"
   ]
  },
  {
   "cell_type": "code",
   "execution_count": 2,
   "metadata": {},
   "outputs": [],
   "source": [
    "NLP=spacy.load('en_core_web_sm')"
   ]
  },
  {
   "cell_type": "code",
   "execution_count": 3,
   "metadata": {},
   "outputs": [],
   "source": [
    "Doc1=NLP(u'This is the first sentence. This is another sentence. This is the last sentence.')"
   ]
  },
  {
   "cell_type": "code",
   "execution_count": 4,
   "metadata": {},
   "outputs": [
    {
     "name": "stdout",
     "output_type": "stream",
     "text": [
      "This is the first sentence.\n",
      "This is another sentence.\n",
      "This is the last sentence.\n"
     ]
    }
   ],
   "source": [
    "# FIRST WAY:\n",
    "for Sent in Doc1.sents:\n",
    "    print(Sent)"
   ]
  },
  {
   "cell_type": "code",
   "execution_count": 5,
   "metadata": {},
   "outputs": [
    {
     "data": {
      "text/plain": [
       "[This is the first sentence.,\n",
       " This is another sentence.,\n",
       " This is the last sentence.]"
      ]
     },
     "execution_count": 5,
     "metadata": {},
     "output_type": "execute_result"
    }
   ],
   "source": [
    "list(Doc1.sents)"
   ]
  },
  {
   "cell_type": "code",
   "execution_count": 6,
   "metadata": {},
   "outputs": [
    {
     "data": {
      "text/plain": [
       "This is the first sentence."
      ]
     },
     "execution_count": 6,
     "metadata": {},
     "output_type": "execute_result"
    }
   ],
   "source": [
    "list(Doc1.sents)[0]"
   ]
  },
  {
   "cell_type": "code",
   "execution_count": 7,
   "metadata": {},
   "outputs": [
    {
     "data": {
      "text/plain": [
       "spacy.tokens.span.Span"
      ]
     },
     "execution_count": 7,
     "metadata": {},
     "output_type": "execute_result"
    }
   ],
   "source": [
    "type(list(Doc1.sents)[0]) "
   ]
  },
  {
   "cell_type": "code",
   "execution_count": 8,
   "metadata": {},
   "outputs": [
    {
     "data": {
      "text/plain": [
       "[This is the first sentence.,\n",
       " This is another sentence.,\n",
       " This is the last sentence.]"
      ]
     },
     "execution_count": 8,
     "metadata": {},
     "output_type": "execute_result"
    }
   ],
   "source": [
    "# SECOND WAY:\n",
    "Doc1_Sents=[Doc_Sents for Doc_Sents in Doc1.sents]\n",
    "Doc1_Sents"
   ]
  },
  {
   "cell_type": "code",
   "execution_count": 9,
   "metadata": {},
   "outputs": [
    {
     "name": "stdout",
     "output_type": "stream",
     "text": [
      "This is another sentence.\n"
     ]
    }
   ],
   "source": [
    "print(Doc1_Sents[1])"
   ]
  },
  {
   "cell_type": "code",
   "execution_count": 10,
   "metadata": {},
   "outputs": [
    {
     "name": "stdout",
     "output_type": "stream",
     "text": [
      "6 11\n"
     ]
    }
   ],
   "source": [
    "print(Doc1_Sents[1].start,Doc1_Sents[1].end)"
   ]
  },
  {
   "cell_type": "code",
   "execution_count": 11,
   "metadata": {},
   "outputs": [
    {
     "name": "stdout",
     "output_type": "stream",
     "text": [
      "This\n",
      "is\n",
      "a\n",
      "sentence1\n",
      ".\n",
      "This\n",
      "is\n",
      "a\n",
      "sentence2\n",
      ".\n",
      "This\n",
      "is\n",
      "a\n",
      "sentence3\n",
      ".\n"
     ]
    }
   ],
   "source": [
    "Doc2=NLP(u'This is a sentence1. This is a sentence2. This is a sentence3.')\n",
    "for Token in Doc2:\n",
    "    print(Token)"
   ]
  },
  {
   "cell_type": "code",
   "execution_count": 12,
   "metadata": {},
   "outputs": [
    {
     "name": "stdout",
     "output_type": "stream",
     "text": [
      "True <----->This\n",
      "None <----->is\n",
      "None <----->a\n",
      "None <----->sentence1\n",
      "None <----->.\n",
      "True <----->This\n",
      "None <----->is\n",
      "None <----->a\n",
      "None <----->sentence2\n",
      "None <----->.\n",
      "True <----->This\n",
      "None <----->is\n",
      "None <----->a\n",
      "None <----->sentence3\n",
      "None <----->.\n"
     ]
    }
   ],
   "source": [
    "Doc2=NLP(u'This is a sentence1. This is a sentence2. This is a sentence3.')\n",
    "for Token in Doc2:\n",
    "    print(Token.is_sent_start,'<----->'+Token.text)"
   ]
  },
  {
   "cell_type": "code",
   "execution_count": 13,
   "metadata": {},
   "outputs": [
    {
     "name": "stdout",
     "output_type": "stream",
     "text": [
      "This is a sentence1.\n",
      "This is a sentence2.\n",
      "This is a sentence3.\n"
     ]
    }
   ],
   "source": [
    "# SPACY'S DEFAULT BEHAVIOR\n",
    "Doc3=NLP(u'\"Management is doing things right; leadership is doing the right things.\" -Peter Drucker')\n",
    "for Sent in Doc2.sents:\n",
    "    print(Sent)"
   ]
  },
  {
   "cell_type": "code",
   "execution_count": 14,
   "metadata": {},
   "outputs": [],
   "source": [
    "# ADD A SEGMENTATION RULE\n",
    "def Set_Custom_Boundary1(Doc):\n",
    "    for Token in Doc:\n",
    "        print(Token,'<----->',Token.i)"
   ]
  },
  {
   "cell_type": "code",
   "execution_count": 15,
   "metadata": {},
   "outputs": [
    {
     "name": "stdout",
     "output_type": "stream",
     "text": [
      "\" <-----> 0\n",
      "Management <-----> 1\n",
      "is <-----> 2\n",
      "doing <-----> 3\n",
      "things <-----> 4\n",
      "right <-----> 5\n",
      "; <-----> 6\n",
      "leadership <-----> 7\n",
      "is <-----> 8\n",
      "doing <-----> 9\n",
      "the <-----> 10\n",
      "right <-----> 11\n",
      "things <-----> 12\n",
      ". <-----> 13\n",
      "\" <-----> 14\n",
      "-Peter <-----> 15\n",
      "Drucker <-----> 16\n"
     ]
    }
   ],
   "source": [
    "Set_Custom_Boundary1(Doc3)"
   ]
  },
  {
   "cell_type": "code",
   "execution_count": 16,
   "metadata": {},
   "outputs": [
    {
     "data": {
      "text/plain": [
       "\"Management is doing things right; leadership is doing the right things.\" -Peter"
      ]
     },
     "execution_count": 16,
     "metadata": {},
     "output_type": "execute_result"
    }
   ],
   "source": [
    "Doc3[:-1]"
   ]
  },
  {
   "cell_type": "code",
   "execution_count": 17,
   "metadata": {},
   "outputs": [],
   "source": [
    "def Set_Custom_Boundary2(Doc):\n",
    "    for Token in Doc[:-1]:\n",
    "        if Token.text==';':\n",
    "            print(Token)"
   ]
  },
  {
   "cell_type": "code",
   "execution_count": 18,
   "metadata": {},
   "outputs": [
    {
     "name": "stdout",
     "output_type": "stream",
     "text": [
      ";\n"
     ]
    }
   ],
   "source": [
    "Set_Custom_Boundary2(Doc3)"
   ]
  },
  {
   "cell_type": "code",
   "execution_count": 19,
   "metadata": {},
   "outputs": [],
   "source": [
    "# ADD A NEW RULE TO THE PIPELINE\n",
    "def Set_Custom_Boundary3(Doc):\n",
    "    for Token in Doc[:-1]:\n",
    "        if Token.text==';':\n",
    "            Doc[Token.i+1].is_sent_start=True\n",
    "    return Doc"
   ]
  },
  {
   "cell_type": "code",
   "execution_count": 20,
   "metadata": {},
   "outputs": [
    {
     "data": {
      "text/plain": [
       "['tagger', 'Set_Custom_Boundary3', 'parser', 'ner']"
      ]
     },
     "execution_count": 20,
     "metadata": {},
     "output_type": "execute_result"
    }
   ],
   "source": [
    "# NER:NAMED ENTITY RECOGNITION\n",
    "NLP.add_pipe(Set_Custom_Boundary3,before='parser')\n",
    "NLP.pipe_names"
   ]
  },
  {
   "cell_type": "code",
   "execution_count": 21,
   "metadata": {},
   "outputs": [],
   "source": [
    "Doc4=NLP(u'\"Management is doing things right; leadership is doing the right things.\" -Peter Drucker')"
   ]
  },
  {
   "cell_type": "code",
   "execution_count": 22,
   "metadata": {},
   "outputs": [
    {
     "name": "stdout",
     "output_type": "stream",
     "text": [
      "\"Management is doing things right;\n",
      "leadership is doing the right things.\"\n",
      "-Peter Drucker\n"
     ]
    }
   ],
   "source": [
    "for Sent in Doc4.sents:\n",
    "    print(Sent)"
   ]
  },
  {
   "cell_type": "code",
   "execution_count": 23,
   "metadata": {},
   "outputs": [
    {
     "name": "stdout",
     "output_type": "stream",
     "text": [
      "\"Management is doing things right; leadership is doing the right things.\"\n",
      "-Peter Drucker\n"
     ]
    }
   ],
   "source": [
    "for Sent in Doc3.sents:\n",
    "    print(Sent)"
   ]
  },
  {
   "cell_type": "code",
   "execution_count": 24,
   "metadata": {},
   "outputs": [],
   "source": [
    "# CHANGE SEGMENTATION RULES:\n",
    "String=u\"This is a sentence. This is another.\\n\\nThis is a \\nthird sentence.\"\n",
    "Doc5=NLP(String)"
   ]
  },
  {
   "cell_type": "code",
   "execution_count": 25,
   "metadata": {},
   "outputs": [
    {
     "name": "stdout",
     "output_type": "stream",
     "text": [
      "This is a sentence.\n",
      "['This', 'is', 'a', 'sentence', '.']\n",
      "This is another.\n",
      "\n",
      "\n",
      "['This', 'is', 'another', '.', '\\n\\n']\n",
      "This is a \n",
      "third sentence.\n",
      "['This', 'is', 'a', '\\n', 'third', 'sentence', '.']\n"
     ]
    }
   ],
   "source": [
    "for Sent in Doc5.sents:\n",
    "    print(Sent)\n",
    "    print([Token.text for Token in Sent])"
   ]
  },
  {
   "cell_type": "code",
   "execution_count": 26,
   "metadata": {},
   "outputs": [],
   "source": [
    "from spacy.pipeline import SentenceSegmenter\n",
    "\n",
    "def Split_on_NewLines(Doc):\n",
    "    Start=0\n",
    "    Seen_NewLine=False\n",
    "    for Token in Doc5:\n",
    "        if Seen_NewLine:\n",
    "            yield Doc[Start:Token.i]\n",
    "            Start=Token.i\n",
    "            Seen_NewLine=False\n",
    "        elif Token.text.startswith('\\n'):\n",
    "            Seen_Newline=True\n",
    "    yield Doc[Start:]\n",
    "    \n",
    "SBD=SentenceSegmenter(NLP.vocab,strategy=Split_on_NewLines)\n",
    "NLP.add_pipe(SBD)"
   ]
  },
  {
   "cell_type": "code",
   "execution_count": 27,
   "metadata": {},
   "outputs": [],
   "source": [
    "Doc6=NLP(String)"
   ]
  },
  {
   "cell_type": "code",
   "execution_count": 28,
   "metadata": {},
   "outputs": [
    {
     "name": "stdout",
     "output_type": "stream",
     "text": [
      "This is a sentence. This is another.\n",
      "\n",
      "This is a \n",
      "third sentence.\n",
      "['This', 'is', 'a', 'sentence', '.', 'This', 'is', 'another', '.', '\\n\\n', 'This', 'is', 'a', '\\n', 'third', 'sentence', '.']\n"
     ]
    }
   ],
   "source": [
    "for Sent in Doc6.sents:\n",
    "    print(Sent)\n",
    "    print([Token.text for Token in Sent])"
   ]
  },
  {
   "cell_type": "code",
   "execution_count": null,
   "metadata": {},
   "outputs": [],
   "source": []
  }
 ],
 "metadata": {
  "kernelspec": {
   "display_name": "Python 3",
   "language": "python",
   "name": "python3"
  },
  "language_info": {
   "codemirror_mode": {
    "name": "ipython",
    "version": 3
   },
   "file_extension": ".py",
   "mimetype": "text/x-python",
   "name": "python",
   "nbconvert_exporter": "python",
   "pygments_lexer": "ipython3",
   "version": "3.7.6"
  }
 },
 "nbformat": 4,
 "nbformat_minor": 4
}

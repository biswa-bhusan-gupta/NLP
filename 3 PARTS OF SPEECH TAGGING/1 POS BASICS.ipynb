{
 "cells": [
  {
   "cell_type": "code",
   "execution_count": 1,
   "metadata": {},
   "outputs": [],
   "source": [
    "import spacy"
   ]
  },
  {
   "cell_type": "code",
   "execution_count": 2,
   "metadata": {},
   "outputs": [],
   "source": [
    "NLP=spacy.load('en_core_web_sm')"
   ]
  },
  {
   "cell_type": "code",
   "execution_count": 3,
   "metadata": {},
   "outputs": [],
   "source": [
    "# U:UNICODE\n",
    "Doc=NLP(u'The quick brown fox jumped over the lazy dog\\'s back.')"
   ]
  },
  {
   "cell_type": "code",
   "execution_count": 4,
   "metadata": {},
   "outputs": [
    {
     "name": "stdout",
     "output_type": "stream",
     "text": [
      "The quick brown fox jumped over the lazy dog's back.\n"
     ]
    }
   ],
   "source": [
    "print(Doc.text)"
   ]
  },
  {
   "cell_type": "code",
   "execution_count": 5,
   "metadata": {},
   "outputs": [
    {
     "name": "stdout",
     "output_type": "stream",
     "text": [
      "jumped\n"
     ]
    }
   ],
   "source": [
    "print(Doc[4])"
   ]
  },
  {
   "cell_type": "code",
   "execution_count": 6,
   "metadata": {},
   "outputs": [
    {
     "name": "stdout",
     "output_type": "stream",
     "text": [
      "VERB\n"
     ]
    }
   ],
   "source": [
    "print(Doc[4].pos_)"
   ]
  },
  {
   "cell_type": "code",
   "execution_count": 7,
   "metadata": {},
   "outputs": [
    {
     "name": "stdout",
     "output_type": "stream",
     "text": [
      "ROOT\n"
     ]
    }
   ],
   "source": [
    "print(Doc[4].dep_)"
   ]
  },
  {
   "cell_type": "code",
   "execution_count": 8,
   "metadata": {},
   "outputs": [
    {
     "name": "stdout",
     "output_type": "stream",
     "text": [
      "VBD\n"
     ]
    }
   ],
   "source": [
    "print(Doc[4].tag_)"
   ]
  },
  {
   "cell_type": "code",
   "execution_count": 9,
   "metadata": {},
   "outputs": [
    {
     "name": "stdout",
     "output_type": "stream",
     "text": [
      "The        DET             DT    determiner\n",
      "quick      ADJ             JJ    adjective\n",
      "brown      ADJ             JJ    adjective\n",
      "fox        NOUN            NN    noun, singular or mass\n",
      "jumped     VERB            VBD   verb, past tense\n",
      "over       ADP             IN    conjunction, subordinating or preposition\n",
      "the        DET             DT    determiner\n",
      "lazy       ADJ             JJ    adjective\n",
      "dog        NOUN            NN    noun, singular or mass\n",
      "'s         PART            POS   possessive ending\n",
      "back       NOUN            NN    noun, singular or mass\n",
      ".          PUNCT           .     punctuation mark, sentence closer\n"
     ]
    }
   ],
   "source": [
    "for Token in Doc:\n",
    "    print(f'{Token.text:{10}} {Token.pos_:{15}} {Token.tag_:{5}} {spacy.explain(Token.tag_)}')"
   ]
  },
  {
   "cell_type": "code",
   "execution_count": 10,
   "metadata": {},
   "outputs": [],
   "source": [
    "Doc1=NLP('I read books on NLP.')"
   ]
  },
  {
   "cell_type": "code",
   "execution_count": 11,
   "metadata": {},
   "outputs": [
    {
     "data": {
      "text/plain": [
       "read"
      ]
     },
     "execution_count": 11,
     "metadata": {},
     "output_type": "execute_result"
    }
   ],
   "source": [
    "Word1=Doc1[1]\n",
    "Word1"
   ]
  },
  {
   "cell_type": "code",
   "execution_count": 12,
   "metadata": {},
   "outputs": [
    {
     "data": {
      "text/plain": [
       "'read'"
      ]
     },
     "execution_count": 12,
     "metadata": {},
     "output_type": "execute_result"
    }
   ],
   "source": [
    "Word1.text"
   ]
  },
  {
   "cell_type": "code",
   "execution_count": 13,
   "metadata": {},
   "outputs": [
    {
     "name": "stdout",
     "output_type": "stream",
     "text": [
      "read       VERB            VBD   verb, past tense\n"
     ]
    }
   ],
   "source": [
    "Token=Word1   \n",
    "print(f'{Token.text:{10}} {Token.pos_:{15}} {Token.tag_:{5}} {spacy.explain(Token.tag_)}')"
   ]
  },
  {
   "cell_type": "code",
   "execution_count": 14,
   "metadata": {},
   "outputs": [
    {
     "name": "stdout",
     "output_type": "stream",
     "text": [
      "read       VERB            VBP   verb, non-3rd person singular present\n"
     ]
    }
   ],
   "source": [
    "Doc2=NLP('I read book on NLP.')\n",
    "Word2=Doc2[1]\n",
    "Token=Word2   \n",
    "print(f'{Token.text:{10}} {Token.pos_:{15}} {Token.tag_:{5}} {spacy.explain(Token.tag_)}')"
   ]
  },
  {
   "cell_type": "code",
   "execution_count": 15,
   "metadata": {},
   "outputs": [
    {
     "data": {
      "text/plain": [
       "{90: 2, 84: 3, 92: 3, 100: 1, 85: 1, 94: 1, 97: 1}"
      ]
     },
     "execution_count": 15,
     "metadata": {},
     "output_type": "execute_result"
    }
   ],
   "source": [
    "# PARTS OF SPEECH\n",
    "POS_Count=Doc.count_by(spacy.attrs.POS)\n",
    "POS_Count"
   ]
  },
  {
   "cell_type": "code",
   "execution_count": 16,
   "metadata": {},
   "outputs": [
    {
     "data": {
      "text/plain": [
       "'ADJ'"
      ]
     },
     "execution_count": 16,
     "metadata": {},
     "output_type": "execute_result"
    }
   ],
   "source": [
    "Doc.vocab[84].text"
   ]
  },
  {
   "cell_type": "code",
   "execution_count": 17,
   "metadata": {},
   "outputs": [
    {
     "data": {
      "text/plain": [
       "84"
      ]
     },
     "execution_count": 17,
     "metadata": {},
     "output_type": "execute_result"
    }
   ],
   "source": [
    "Doc[2].pos"
   ]
  },
  {
   "cell_type": "code",
   "execution_count": 18,
   "metadata": {},
   "outputs": [
    {
     "data": {
      "text/plain": [
       "'ADJ'"
      ]
     },
     "execution_count": 18,
     "metadata": {},
     "output_type": "execute_result"
    }
   ],
   "source": [
    "Doc[2].pos_"
   ]
  },
  {
   "cell_type": "code",
   "execution_count": 19,
   "metadata": {},
   "outputs": [
    {
     "name": "stdout",
     "output_type": "stream",
     "text": [
      "84 ADJ   3\n",
      "85 ADP   1\n",
      "90 DET   2\n",
      "92 NOUN  3\n",
      "94 PART  1\n",
      "97 PUNCT 1\n",
      "100 VERB  1\n"
     ]
    }
   ],
   "source": [
    "for Key,Value in sorted(POS_Count.items()):\n",
    "    print(f'{Key} {Doc.vocab[Key].text:<{5}} {Value}')"
   ]
  },
  {
   "cell_type": "code",
   "execution_count": 20,
   "metadata": {},
   "outputs": [
    {
     "data": {
      "text/plain": [
       "{15267657372422890137: 2,\n",
       " 10554686591937588953: 3,\n",
       " 15308085513773655218: 3,\n",
       " 17109001835818727656: 1,\n",
       " 1292078113972184607: 1,\n",
       " 74: 1,\n",
       " 12646065887601541794: 1}"
      ]
     },
     "execution_count": 20,
     "metadata": {},
     "output_type": "execute_result"
    }
   ],
   "source": [
    "# TAG\n",
    "TAG_Count=Doc.count_by(spacy.attrs.TAG)\n",
    "TAG_Count"
   ]
  },
  {
   "cell_type": "code",
   "execution_count": 21,
   "metadata": {},
   "outputs": [
    {
     "name": "stdout",
     "output_type": "stream",
     "text": [
      "74 ----------------------POS .........1\n",
      "1292078113972184607 -----------------------IN .........1\n",
      "10554686591937588953 -----------------------JJ .........3\n",
      "12646065887601541794 ------------------------. .........1\n",
      "15267657372422890137 -----------------------DT .........2\n",
      "15308085513773655218 -----------------------NN .........3\n",
      "17109001835818727656 ----------------------VBD .........1\n"
     ]
    }
   ],
   "source": [
    "for Key,Value in sorted(TAG_Count.items()):\n",
    "    print(f'{Key} {Doc.vocab[Key].text:->{25}} {Value:.>{10}}')"
   ]
  },
  {
   "cell_type": "code",
   "execution_count": 22,
   "metadata": {},
   "outputs": [
    {
     "data": {
      "text/plain": [
       "{415: 2,\n",
       " 402: 3,\n",
       " 429: 1,\n",
       " 8206900633647566924: 1,\n",
       " 443: 1,\n",
       " 440: 1,\n",
       " 8110129090154140942: 1,\n",
       " 439: 1,\n",
       " 445: 1}"
      ]
     },
     "execution_count": 22,
     "metadata": {},
     "output_type": "execute_result"
    }
   ],
   "source": [
    "# SYNTACTIC DEPENDENCIES\n",
    "DEP_Count=Doc.count_by(spacy.attrs.DEP)\n",
    "DEP_Count"
   ]
  },
  {
   "cell_type": "code",
   "execution_count": 23,
   "metadata": {},
   "outputs": [
    {
     "name": "stdout",
     "output_type": "stream",
     "text": [
      "402 ......amod ----3\n",
      "415 .......det ----2\n",
      "429 .....nsubj ----1\n",
      "439 ......pobj ----1\n",
      "440 ......poss ----1\n",
      "443 ......prep ----1\n",
      "445 .....punct ----1\n",
      "8110129090154140942 ......case ----1\n",
      "8206900633647566924 ......ROOT ----1\n"
     ]
    }
   ],
   "source": [
    "for Key,Value in sorted(DEP_Count.items()):\n",
    "    print(f'{Key} {Doc.vocab[Key].text:.>{10}} {Value:->{5}}')"
   ]
  },
  {
   "cell_type": "code",
   "execution_count": null,
   "metadata": {},
   "outputs": [],
   "source": []
  }
 ],
 "metadata": {
  "kernelspec": {
   "display_name": "Python 3",
   "language": "python",
   "name": "python3"
  },
  "language_info": {
   "codemirror_mode": {
    "name": "ipython",
    "version": 3
   },
   "file_extension": ".py",
   "mimetype": "text/x-python",
   "name": "python",
   "nbconvert_exporter": "python",
   "pygments_lexer": "ipython3",
   "version": "3.7.6"
  }
 },
 "nbformat": 4,
 "nbformat_minor": 4
}

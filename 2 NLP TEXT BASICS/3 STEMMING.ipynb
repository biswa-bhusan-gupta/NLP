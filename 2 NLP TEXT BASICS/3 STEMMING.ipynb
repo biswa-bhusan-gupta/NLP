{
 "cells": [
  {
   "cell_type": "code",
   "execution_count": 1,
   "metadata": {},
   "outputs": [],
   "source": [
    "import nltk"
   ]
  },
  {
   "cell_type": "code",
   "execution_count": 2,
   "metadata": {},
   "outputs": [],
   "source": [
    "# REDUCE SOME WORDS TO SOME SORT OF ROOT WORDS\n",
    "from nltk.stem.porter import PorterStemmer"
   ]
  },
  {
   "cell_type": "code",
   "execution_count": 3,
   "metadata": {},
   "outputs": [],
   "source": [
    "# PORTER STEMMER:\n",
    "P_Stemmer=PorterStemmer()"
   ]
  },
  {
   "cell_type": "code",
   "execution_count": 4,
   "metadata": {},
   "outputs": [],
   "source": [
    "Words=['run','runner','ran','runs','running','easily','fairly','fairness']"
   ]
  },
  {
   "cell_type": "code",
   "execution_count": 5,
   "metadata": {},
   "outputs": [
    {
     "name": "stdout",
     "output_type": "stream",
     "text": [
      "run--------->run\n",
      "runner--------->runner\n",
      "ran--------->ran\n",
      "runs--------->run\n",
      "running--------->run\n",
      "easily--------->easili\n",
      "fairly--------->fairli\n",
      "fairness--------->fair\n"
     ]
    }
   ],
   "source": [
    "for Word in Words:\n",
    "    print(Word + '--------->' + P_Stemmer.stem(Word))"
   ]
  },
  {
   "cell_type": "code",
   "execution_count": 6,
   "metadata": {},
   "outputs": [],
   "source": [
    "from nltk.stem.snowball import SnowballStemmer"
   ]
  },
  {
   "cell_type": "code",
   "execution_count": 7,
   "metadata": {},
   "outputs": [],
   "source": [
    "# SNOWBALL STEMMER:\n",
    "S_Stemmer=SnowballStemmer(language='english')"
   ]
  },
  {
   "cell_type": "code",
   "execution_count": 8,
   "metadata": {},
   "outputs": [
    {
     "name": "stdout",
     "output_type": "stream",
     "text": [
      "run--------->run\n",
      "runner--------->runner\n",
      "ran--------->ran\n",
      "runs--------->run\n",
      "running--------->run\n",
      "easily--------->easili\n",
      "fairly--------->fair\n",
      "fairness--------->fair\n"
     ]
    }
   ],
   "source": [
    "for Word in Words:\n",
    "        print(Word + '--------->' + S_Stemmer.stem(Word))"
   ]
  },
  {
   "cell_type": "code",
   "execution_count": 9,
   "metadata": {},
   "outputs": [
    {
     "name": "stdout",
     "output_type": "stream",
     "text": [
      "generous--------->generous\n",
      "generation--------->generat\n",
      "generously--------->generous\n",
      "generate--------->generat\n"
     ]
    }
   ],
   "source": [
    "Words=['generous','generation','generously','generate']\n",
    "for Word in Words:\n",
    "        print(Word + '--------->' + S_Stemmer.stem(Word))"
   ]
  },
  {
   "cell_type": "code",
   "execution_count": null,
   "metadata": {},
   "outputs": [],
   "source": []
  }
 ],
 "metadata": {
  "kernelspec": {
   "display_name": "Python 3",
   "language": "python",
   "name": "python3"
  },
  "language_info": {
   "codemirror_mode": {
    "name": "ipython",
    "version": 3
   },
   "file_extension": ".py",
   "mimetype": "text/x-python",
   "name": "python",
   "nbconvert_exporter": "python",
   "pygments_lexer": "ipython3",
   "version": "3.7.6"
  }
 },
 "nbformat": 4,
 "nbformat_minor": 4
}

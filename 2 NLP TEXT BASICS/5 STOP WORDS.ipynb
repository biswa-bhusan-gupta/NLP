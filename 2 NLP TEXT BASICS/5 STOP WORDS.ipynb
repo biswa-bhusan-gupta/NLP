{
 "cells": [
  {
   "cell_type": "code",
   "execution_count": 1,
   "metadata": {},
   "outputs": [],
   "source": [
    "import spacy"
   ]
  },
  {
   "cell_type": "code",
   "execution_count": 2,
   "metadata": {},
   "outputs": [],
   "source": [
    "NLP=spacy.load('en_core_web_sm')"
   ]
  },
  {
   "cell_type": "code",
   "execution_count": 3,
   "metadata": {},
   "outputs": [
    {
     "name": "stdout",
     "output_type": "stream",
     "text": [
      "{'anyone', 'which', 'whether', 'eight', 'such', 'nobody', 'behind', 'for', 'whereas', 'nor', 'everywhere', 'nevertheless', 'some', 'else', 'somewhere', 'if', 'whence', \"'m\", 'perhaps', 'namely', 'him', 'whenever', 'enough', 'just', 'might', 'part', 'that', 'full', 'a', 'any', 'through', 'against', 'i', 'by', 'nothing', 'itself', 'everyone', 'can', 'do', 'sixty', 'are', 'than', 'sometimes', 'during', 'another', 'fifteen', 'side', \"'ll\", 'been', 'no', '‘s', 'serious', 'on', 'is', 'out', 'six', 'back', 'there', 'still', 'make', 'around', 'hers', 'amongst', '‘ve', 'often', 'otherwise', 'will', 'former', 'more', 'name', 'whole', 'thru', 'why', 'seems', 're', 'doing', 'two', 'amount', 'really', '’s', 'neither', 'now', 'he', 'therefore', 'those', 'give', 'between', 'when', 'only', 'either', 'towards', 'should', 'see', 'get', 'anything', 'elsewhere', 'due', 'almost', 'via', 'up', 'latter', 'ourselves', 'his', 'both', 'an', 'along', 'this', 'beyond', 'ca', 'your', 'each', 'nine', 'even', 'as', 'yet', 'ours', 'please', 'wherein', 'under', 'fifty', 'cannot', 'me', 'whereafter', 'yours', 'much', 'be', 'anyhow', 'whither', 'into', 'whereupon', 'n’t', 'third', 'since', 'the', \"'d\", 'regarding', 'afterwards', 'top', 'also', 'never', '’re', 'herself', 'using', 'hereupon', 'one', 'off', 'already', 'thereupon', 'we', 'himself', 'where', 'about', 'toward', 'beforehand', 'because', 'therein', 'down', 'anywhere', 'few', 'seeming', 'over', 'while', 'used', 'them', 'after', 'its', 'being', 'it', 'well', 'us', 'have', 'thence', 'front', '’ve', 'above', 'themselves', 'less', 'beside', 'except', 'has', 'thereafter', 'mine', 'becoming', 'yourselves', 'eleven', 'latterly', 'many', 'once', 'everything', 'say', 'again', 'seem', 'you', 'how', 'must', 'together', 'show', \"n't\", 'hereafter', \"'re\", 'mostly', 'who', 'here', 'across', 'become', 'very', 'made', 'had', 'next', 'forty', 'does', 'she', 'hence', 'before', 'among', 'could', 'five', 'hundred', 'always', 'other', 'with', 'yourself', 'further', 'thus', 'n‘t', 'four', 'formerly', 'meanwhile', 'upon', 'at', 'something', 'seemed', '‘re', 'though', 'until', 'indeed', '’ll', 'onto', 'rather', 'wherever', 'least', 'then', 'am', 'unless', 'thereby', 'empty', 'below', 'twelve', 'same', 'whom', 'moreover', 'besides', 'so', 'three', 'without', 'move', 'they', 'although', 'others', 'several', 'within', 'was', 'my', 'quite', 'all', 'alone', 'nowhere', 'becomes', 'myself', 'her', '’m', 'but', 'every', '‘m', 'go', 'too', 'not', 'sometime', '‘ll', 'of', 'whoever', 'ever', 'done', 'their', 'to', '‘d', 'throughout', 'these', 'noone', 'put', 'what', 'someone', 'or', 'somehow', 'call', 'keep', \"'s\", 'from', 'became', 'herein', 'take', 'ten', 'hereby', 'various', 'twenty', 'however', 'most', 'whereby', 'last', 'anyway', 'whatever', 'first', 'own', 'whose', 'would', 'did', 'our', 'per', 'may', 'were', 'bottom', 'in', 'none', '’d', 'and', \"'ve\"}\n"
     ]
    }
   ],
   "source": [
    "print(NLP.Defaults.stop_words)"
   ]
  },
  {
   "cell_type": "code",
   "execution_count": 4,
   "metadata": {},
   "outputs": [
    {
     "data": {
      "text/plain": [
       "326"
      ]
     },
     "execution_count": 4,
     "metadata": {},
     "output_type": "execute_result"
    }
   ],
   "source": [
    "len(NLP.Defaults.stop_words)"
   ]
  },
  {
   "cell_type": "code",
   "execution_count": 5,
   "metadata": {},
   "outputs": [
    {
     "data": {
      "text/plain": [
       "True"
      ]
     },
     "execution_count": 5,
     "metadata": {},
     "output_type": "execute_result"
    }
   ],
   "source": [
    "NLP.vocab['is'].is_stop"
   ]
  },
  {
   "cell_type": "code",
   "execution_count": 6,
   "metadata": {},
   "outputs": [
    {
     "data": {
      "text/plain": [
       "False"
      ]
     },
     "execution_count": 6,
     "metadata": {},
     "output_type": "execute_result"
    }
   ],
   "source": [
    "NLP.vocab['mystery'].is_stop"
   ]
  },
  {
   "cell_type": "code",
   "execution_count": 7,
   "metadata": {},
   "outputs": [],
   "source": [
    "NLP.Defaults.stop_words.add('btw')\n",
    "NLP.vocab['btw'].is_stop=True"
   ]
  },
  {
   "cell_type": "code",
   "execution_count": 8,
   "metadata": {},
   "outputs": [
    {
     "data": {
      "text/plain": [
       "True"
      ]
     },
     "execution_count": 8,
     "metadata": {},
     "output_type": "execute_result"
    }
   ],
   "source": [
    "NLP.vocab['btw'].is_stop"
   ]
  },
  {
   "cell_type": "code",
   "execution_count": 9,
   "metadata": {},
   "outputs": [
    {
     "data": {
      "text/plain": [
       "327"
      ]
     },
     "execution_count": 9,
     "metadata": {},
     "output_type": "execute_result"
    }
   ],
   "source": [
    "len(NLP.Defaults.stop_words)"
   ]
  },
  {
   "cell_type": "code",
   "execution_count": 10,
   "metadata": {},
   "outputs": [],
   "source": [
    "NLP.Defaults.stop_words.remove('btw')\n",
    "NLP.vocab['btw'].is_stop=False"
   ]
  },
  {
   "cell_type": "code",
   "execution_count": 11,
   "metadata": {},
   "outputs": [
    {
     "data": {
      "text/plain": [
       "False"
      ]
     },
     "execution_count": 11,
     "metadata": {},
     "output_type": "execute_result"
    }
   ],
   "source": [
    "NLP.vocab['btw'].is_stop"
   ]
  },
  {
   "cell_type": "code",
   "execution_count": 12,
   "metadata": {},
   "outputs": [
    {
     "data": {
      "text/plain": [
       "326"
      ]
     },
     "execution_count": 12,
     "metadata": {},
     "output_type": "execute_result"
    }
   ],
   "source": [
    "len(NLP.Defaults.stop_words)"
   ]
  }
 ],
 "metadata": {
  "kernelspec": {
   "display_name": "Python 3",
   "language": "python",
   "name": "python3"
  },
  "language_info": {
   "codemirror_mode": {
    "name": "ipython",
    "version": 3
   },
   "file_extension": ".py",
   "mimetype": "text/x-python",
   "name": "python",
   "nbconvert_exporter": "python",
   "pygments_lexer": "ipython3",
   "version": "3.7.6"
  }
 },
 "nbformat": 4,
 "nbformat_minor": 4
}
